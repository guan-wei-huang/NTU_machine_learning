{
  "nbformat": 4,
  "nbformat_minor": 0,
  "metadata": {
    "colab": {
      "name": "hw2_best.ipynb",
      "provenance": [],
      "collapsed_sections": []
    },
    "kernelspec": {
      "name": "python3",
      "display_name": "Python 3"
    },
    "language_info": {
      "name": "python"
    }
  },
  "cells": [
    {
      "cell_type": "code",
      "metadata": {
        "id": "CdR99RHSZ1jx"
      },
      "source": [
        "import pandas as pd\n",
        "import numpy as np\n",
        "import sklearn\n",
        "from sklearn import svm\n",
        "from sklearn import datasets\n",
        "from sklearn import tree\n",
        "from sklearn import metrics"
      ],
      "execution_count": 1,
      "outputs": []
    },
    {
      "cell_type": "code",
      "metadata": {
        "id": "VPsarQ3PaJwL"
      },
      "source": [
        "def load_data():\n",
        "  x_train = pd.read_csv('X_train')\n",
        "  x_test = pd.read_csv('X_test')\n",
        "  x_train = x_train.drop(['sex'], axis=1)\n",
        "  x_test = x_test.drop(['sex'], axis=1)\n",
        "\n",
        "  x_train = x_train.values\n",
        "  x_test = x_test.values\n",
        "\n",
        "  y_train = pd.read_csv('Y_train', header = None)\n",
        "  y_train = y_train.values\n",
        "  y_train = y_train.reshape(-1)\n",
        "\n",
        "  return x_train, y_train, x_test"
      ],
      "execution_count": 2,
      "outputs": []
    },
    {
      "cell_type": "code",
      "metadata": {
        "id": "CKuBv6V3cgbd",
        "colab": {
          "base_uri": "https://localhost:8080/"
        },
        "outputId": "22df76ae-e1d7-479e-d1c8-831fa309c914"
      },
      "source": [
        "x_train, y_train, x_test = load_data()\n",
        "\n",
        "x1, x2, y1, y2 = sklearn.model_selection.train_test_split(x_train, y_train, test_size=0.1)\n",
        "\n",
        "tree = tree.DecisionTreeClassifier(max_depth=10)\n",
        "model = tree.fit(x1, y1)\n",
        "\n",
        "yy = model.predict(x2)\n",
        "\n",
        "accuracy = metrics.accuracy_score(y2, yy)\n",
        "print(accuracy)"
      ],
      "execution_count": 3,
      "outputs": [
        {
          "output_type": "stream",
          "name": "stdout",
          "text": [
            "0.8609149524101934\n"
          ]
        }
      ]
    },
    {
      "cell_type": "code",
      "metadata": {
        "id": "3XQXGKfb28fs"
      },
      "source": [
        "t = model.predict(x_test)\n",
        "\n",
        "import csv\n",
        "with open('predict.csv', 'w', newline='') as csvf:\n",
        "    # 建立 CSV 檔寫入器\n",
        "    writer = csv.writer(csvf)\n",
        "    writer.writerow(['id','label'])\n",
        "    for i in range(int(t.shape[0])):\n",
        "      writer.writerow( [i + 1, int(t[i])] )"
      ],
      "execution_count": 5,
      "outputs": []
    }
  ]
}