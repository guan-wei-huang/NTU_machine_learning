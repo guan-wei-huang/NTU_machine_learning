{
  "cells": [
    {
      "cell_type": "markdown",
      "metadata": {
        "id": "AeZtEkZdNMGg"
      },
      "source": [
        "## ML HW2 手把手教學 \n"
      ]
    },
    {
      "cell_type": "code",
      "execution_count": null,
      "metadata": {
        "id": "lMOeb2gcNWdB"
      },
      "outputs": [],
      "source": [
        "import numpy as np\n",
        "import pandas as pd"
      ]
    },
    {
      "cell_type": "markdown",
      "metadata": {
        "id": "4y2jsOxKQmbV"
      },
      "source": [
        "### Probabilistic generative model\n"
      ]
    },
    {
      "cell_type": "code",
      "execution_count": null,
      "metadata": {
        "id": "LIka2nwqQsvm"
      },
      "outputs": [],
      "source": [
        "import numpy as np\n",
        "import math\n",
        "import pandas as pd\n",
        "\n",
        "dim = 106"
      ]
    },
    {
      "cell_type": "markdown",
      "metadata": {
        "id": "BTeKz7_4QzGl"
      },
      "source": [
        "Same as logictic regression"
      ]
    },
    {
      "cell_type": "code",
      "execution_count": null,
      "metadata": {
        "id": "KvORjiUCQ6yP"
      },
      "outputs": [],
      "source": [
        "def load_data():\n",
        "    x_train = pd.read_csv('X_train')\n",
        "    x_test = pd.read_csv('X_test')\n",
        "\n",
        "    x_train = x_train.values\n",
        "    x_test = x_test.values\n",
        "\n",
        "    y_train = pd.read_csv('Y_train', header = None)\n",
        "    y_train = y_train.values\n",
        "    y_train = y_train.reshape(-1)\n",
        "\n",
        "\n",
        "    return x_train, y_train, x_test\n",
        "\n",
        "def sigmoid(z):\n",
        "    res = 1 / (1.0 + np.exp(-z))\n",
        "    return np.clip(res, 1e-6, 1-1e-6)"
      ]
    },
    {
      "cell_type": "markdown",
      "metadata": {
        "id": "BhRy2oxGRCdC"
      },
      "source": [
        "參考 [上課投影片](https://drive.google.com/file/d/1WKjqkJVPIxYh1REbzy6HeoGfZj-mj6NJ/view) P18 and P23\n",
        "\n"
      ]
    },
    {
      "cell_type": "code",
      "execution_count": null,
      "metadata": {
        "id": "SCoUqbnaRKn6"
      },
      "outputs": [],
      "source": [
        "def train(x_train, y_train):\n",
        "   \n",
        "    mu1 = np.zeros((dim,))\n",
        "    mu2 = np.zeros((dim,))\n",
        "    # implement probalistic generative model\n",
        "\n",
        "    idx_1 = np.argwhere(y_train == 1).flatten()\n",
        "    idx_2 = np.argwhere(y_train == 0).flatten()\n",
        "    class1 = x_train[idx_1]\n",
        "    class2 = x_train[idx_2]\n",
        "\n",
        "    cnt1 = idx_1.shape[0]\n",
        "    cnt2 = idx_2.shape[0]\n",
        "\n",
        "    mu1 = np.mean(class1, axis=0)\n",
        "    mu2 = np.mean(class2, axis=0)\n",
        "\n",
        "    sigma1 = np.zeros((dim, dim))\n",
        "    sigma2 = np.zeros((dim, dim))\n",
        "     \n",
        "    for i in range(cnt1):\n",
        "      m = (class1[i] - mu1).reshape(dim,1)\n",
        "      sigma1 += np.matmul(m, np.transpose(m))\n",
        "    for i in range(cnt2):\n",
        "      m = (class2[i] - mu2).reshape(dim,1)\n",
        "      sigma2 += np.matmul(m, np.transpose(m))\n",
        "    \n",
        "    sigma1 = sigma1 / cnt1\n",
        "    sigma2 = sigma2 / cnt2\n",
        "    share_sigma = (float(cnt1)/x_train.shape[0]) * sigma1 + (float(cnt2)/x_train.shape[0]) * sigma2\n",
        "\n",
        "    return mu1, mu2, share_sigma, cnt1, cnt2"
      ]
    },
    {
      "cell_type": "markdown",
      "metadata": {
        "id": "-PzNTdvwVHnI"
      },
      "source": [
        "參考 [上課投影片](https://drive.google.com/file/d/1WKjqkJVPIxYh1REbzy6HeoGfZj-mj6NJ/view) P33\n",
        "\n"
      ]
    },
    {
      "cell_type": "code",
      "execution_count": null,
      "metadata": {
        "id": "p9LozVuyVHvk"
      },
      "outputs": [],
      "source": [
        "def predict(x_test, mu1, mu2, share_sigma, N1, N2):\n",
        "    sigma_inverse = np.linalg.inv(share_sigma)\n",
        "\n",
        "    w = np.dot( (mu1-mu2), sigma_inverse)\n",
        "    b = (-0.5) * np.dot(np.dot(mu1.T, sigma_inverse), mu1) + (0.5) * np.dot(np.dot(mu2.T, sigma_inverse), mu2) + np.log(float(N1)/N2)\n",
        "\n",
        "    z = np.dot(w, x_test.T) + b\n",
        "    pred = sigmoid(z)\n",
        "    return pred"
      ]
    },
    {
      "cell_type": "markdown",
      "metadata": {
        "id": "EZ5onx1WVWuj"
      },
      "source": [
        "Predict your results.\n",
        "\n"
      ]
    },
    {
      "cell_type": "code",
      "execution_count": null,
      "metadata": {
        "colab": {
          "base_uri": "https://localhost:8080/"
        },
        "id": "OxVyr8KZVW5u",
        "outputId": "8a3f0951-a58a-43c6-fcdb-1cb85043c7d4"
      },
      "outputs": [],
      "source": [
        "\n",
        "x_train,y_train,x_test = load_data()\n",
        "\n",
        "mu1, mu2, shared_sigma, N1, N2 = train(x_train, y_train)\n",
        "\n",
        "\n",
        "y = predict(x_train, mu1, mu2, shared_sigma, N1, N2)\n",
        "y = np.around(y)\n",
        "\n",
        "result = (y_train == y)\n",
        "\n",
        "print('Train acc = %f' % (float(result.sum()) / result.shape[0]))\n",
        "\n",
        "y_test = predict(x_test, mu1, mu2, shared_sigma, N1, N2)\n",
        "y_test = np.around(y_test)\n"
      ]
    },
    {
      "cell_type": "code",
      "execution_count": null,
      "metadata": {
        "id": "OVEQ1t9o4ahz"
      },
      "outputs": [],
      "source": [
        "import csv\n",
        "with open('predict.csv', 'w', newline='') as csvf:\n",
        "    # 建立 CSV 檔寫入器\n",
        "    writer = csv.writer(csvf)\n",
        "    writer.writerow(['id','label'])\n",
        "    for i in range(int(y_test.shape[0])):\n",
        "      writer.writerow( [i + 1, int(y_test[i])] )"
      ]
    },
    {
      "cell_type": "markdown",
      "metadata": {
        "id": "w3aDCdTxXo-B"
      },
      "source": [
        "### Tip for math problem\n",
        "[p1](https://people.eecs.berkeley.edu/~jrs/189/exam/mids14.pdf)  \n",
        "[p2&3](https://people.eecs.berkeley.edu/~jordan/courses/260-spring10/other-readings/chapter13.pdf)  \n",
        "[p3](https://stats.stackexchange.com/questions/351549/maximum-likelihood-estimators-multivariate-gaussian)"
      ]
    }
  ],
  "metadata": {
    "colab": {
      "collapsed_sections": [],
      "name": "「ML_HW2_generative.ipynb」的副本",
      "provenance": []
    },
    "kernelspec": {
      "display_name": "Python 3",
      "name": "python3"
    }
  },
  "nbformat": 4,
  "nbformat_minor": 0
}
